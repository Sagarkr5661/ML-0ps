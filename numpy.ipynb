{
 "cells": [
  {
   "cell_type": "code",
   "execution_count": null,
   "id": "30b1063d",
   "metadata": {},
   "outputs": [],
   "source": [
    "!pip install numpy\n"
   ]
  },
  {
   "cell_type": "code",
   "execution_count": null,
   "id": "2415cdfa",
   "metadata": {},
   "outputs": [],
   "source": [
    "import numpy as np\n",
    "\n",
    "## create array using numpy\n",
    "## create a 2d array\n",
    "arr1=np.array([1,2,3,4,5])\n",
    "print(arr1)\n",
    "print(type(arr1))\n",
    "print(arr1.shape)\n"
   ]
  },
  {
   "cell_type": "code",
   "execution_count": null,
   "id": "928aad54",
   "metadata": {},
   "outputs": [],
   "source": []
  },
  {
   "cell_type": "code",
   "execution_count": null,
   "id": "f46cf084",
   "metadata": {},
   "outputs": [],
   "source": [
    "## 1D array\n",
    "arr2=np.array([1,2,3,4,5])\n",
    "arr2.reshape(1,5) ## 1 row and 5 columns"
   ]
  },
  {
   "cell_type": "code",
   "execution_count": null,
   "id": "f593ae08",
   "metadata": {},
   "outputs": [],
   "source": [
    "## 2d Array\n",
    "arr2=np.array([[1,2,3,4,5],[2,3,4,5,6]])\n",
    "print(arr2)\n",
    "print(arr2.shape)"
   ]
  },
  {
   "cell_type": "code",
   "execution_count": null,
   "id": "f35ca172",
   "metadata": {},
   "outputs": [],
   "source": [
    "np.arange(0,10,2).reshape(5,1)"
   ]
  },
  {
   "cell_type": "code",
   "execution_count": null,
   "id": "d665845e",
   "metadata": {},
   "outputs": [],
   "source": [
    "np.ones((3,4)) ## 3 rows 4 column"
   ]
  },
  {
   "cell_type": "code",
   "execution_count": null,
   "id": "42d32843",
   "metadata": {},
   "outputs": [],
   "source": [
    "## identity matric\n",
    "np.eye(3)"
   ]
  },
  {
   "cell_type": "code",
   "execution_count": null,
   "id": "3e8f1579",
   "metadata": {},
   "outputs": [],
   "source": [
    "## Attributes of numpy\n",
    "arr = np.array([[1,2,3],[4,5,6]])\n",
    "print(\"Arrays:\",arr)  \n",
    "print(\"Shape:\",arr.shape) # Output: (2,3)\n",
    "print(\"Number of Dimensions:\",arr.ndim) #Output: 2\n",
    "print(\"Size(number of elements):\",arr.size)  #output: 6\n",
    "print(\"Data Type:\",arr.dtype)  # output: int64(may vary based in the platform)\n",
    "print(\"Item size(in bytes):\",arr.itemsize) #Output: 8(may varry based on platform)"
   ]
  },
  {
   "cell_type": "code",
   "execution_count": null,
   "id": "3b9692ed",
   "metadata": {},
   "outputs": [],
   "source": [
    "## numpy vectorized Operation\n",
    "arr1=np.array([1,2,3,4,5])\n",
    "arr2=np.array([10,20,30,40,50])\n",
    "\n",
    "## Element Wise Addition\n",
    "\n",
    "print(\"Addition:\",arr1+arr2)\n",
    "\n",
    "## Element Wise Substraction\n",
    "print(\"Subtraction:\",arr1-arr2)\n",
    "\n",
    "## Element wise multiplication\n",
    "print(\"Multiplication:\",arr1*arr2)\n",
    "\n",
    "## Element wise division\n",
    "print(\"Division:\",arr1/arr2)"
   ]
  },
  {
   "cell_type": "code",
   "execution_count": null,
   "id": "e6bc704f",
   "metadata": {},
   "outputs": [],
   "source": [
    "### Universal Function\n",
    "\n",
    "arr=np.array([2,3,4,5,6])\n",
    "## Square root\n",
    "print(np.sqrt(arr))\n",
    "\n",
    "## Exponential\n",
    "print(np.exp(arr))\n",
    "\n",
    "## Sine\n",
    "print(np.sin(arr))\n",
    "\n",
    "## natural log\n",
    "print(np.log(arr))\n"
   ]
  },
  {
   "cell_type": "code",
   "execution_count": null,
   "id": "ebb779b4",
   "metadata": {},
   "outputs": [],
   "source": [
    "## Array slicing and indexing \n",
    "\n",
    "arr=np.array([[1,2,3,4],[5,6,7,8],[9,10,11,12]])\n",
    "print(\"Array: \\n\",arr)\n",
    "\n"
   ]
  },
  {
   "cell_type": "code",
   "execution_count": null,
   "id": "3d925b37",
   "metadata": {},
   "outputs": [],
   "source": [
    "print(arr[1:,1:3])"
   ]
  },
  {
   "cell_type": "code",
   "execution_count": null,
   "id": "83b5c3cc",
   "metadata": {},
   "outputs": [],
   "source": [
    "arr[0][0]\n",
    "print(arr[0:2,2:])"
   ]
  },
  {
   "cell_type": "markdown",
   "id": "0c4a7630",
   "metadata": {},
   "source": [
    "### I want to print 7,8 and 11,12"
   ]
  },
  {
   "cell_type": "code",
   "execution_count": null,
   "id": "74d3cc36",
   "metadata": {},
   "outputs": [],
   "source": [
    "arr[1:,2:]"
   ]
  },
  {
   "cell_type": "code",
   "execution_count": null,
   "id": "5f9e76f8",
   "metadata": {},
   "outputs": [],
   "source": [
    "### Modify array element\n",
    "\n",
    "arr[0,0]=100\n",
    "print(arr)"
   ]
  },
  {
   "cell_type": "code",
   "execution_count": null,
   "id": "b96047d7",
   "metadata": {},
   "outputs": [],
   "source": [
    "arr[1:]=100\n",
    "print(arr)"
   ]
  },
  {
   "cell_type": "code",
   "execution_count": null,
   "id": "a206ed73",
   "metadata": {},
   "outputs": [],
   "source": [
    "### Statistical concept--Normalization\n",
    "##  to have a mean of 0 and standard deviation of 1\n",
    "data = np.array([1,2,3,4,5])\n",
    "\n",
    "## Calculating The mean of standard deviation\n",
    "mean = np.mean(data)\n",
    "std_dev = np.std(data)\n",
    "\n",
    "## Normalization The data\n",
    "normalized_data = (data - mean) / std_dev\n",
    "print(\"Normalized data:\",normalized_data)"
   ]
  },
  {
   "cell_type": "code",
   "execution_count": null,
   "id": "f2456e52",
   "metadata": {},
   "outputs": [],
   "source": [
    "data=np.array([1,2,3,4,5,6,7,8,9,10])\n",
    "\n",
    "## Mean\n",
    "mean = np.mean(data)\n",
    "print(\"Mean:\",mean)\n",
    "\n",
    "# Median\n",
    "median=np.median(data)\n",
    "print(\"Median:\",median)\n",
    "\n",
    "# Standard Deviation\n",
    "std_dev = np.std(data)\n",
    "print(\"Standard Deviation:\",std_dev)\n",
    "\n",
    "#Variance\n",
    "variance = np.var(data)\n",
    "print(\"Variance:\",variance)\n"
   ]
  },
  {
   "cell_type": "code",
   "execution_count": null,
   "id": "887f0f40",
   "metadata": {},
   "outputs": [],
   "source": [
    "## Logical Operation\n",
    "data=np.array([1,2,3,4,5,6,7,8,9,10])\n",
    "data[(data>5)&(data<=8)]"
   ]
  },
  {
   "cell_type": "code",
   "execution_count": null,
   "id": "12570e24",
   "metadata": {},
   "outputs": [],
   "source": []
  }
 ],
 "metadata": {
  "kernelspec": {
   "display_name": "Python 3",
   "language": "python",
   "name": "python3"
  },
  "language_info": {
   "codemirror_mode": {
    "name": "ipython",
    "version": 3
   },
   "file_extension": ".py",
   "mimetype": "text/x-python",
   "name": "python",
   "nbconvert_exporter": "python",
   "pygments_lexer": "ipython3",
   "version": "3.12.11"
  }
 },
 "nbformat": 4,
 "nbformat_minor": 5
}
