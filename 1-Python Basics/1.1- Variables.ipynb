{
 "cells": [
  {
   "cell_type": "markdown",
   "id": "9a4679f3",
   "metadata": {},
   "source": [
    "### Python is Case sensitive"
   ]
  },
  {
   "cell_type": "code",
   "execution_count": 3,
   "id": "84cc801d",
   "metadata": {},
   "outputs": [
    {
     "name": "stdout",
     "output_type": "stream",
     "text": [
      "Sagar\n",
      "Kumar\n"
     ]
    }
   ],
   "source": [
    "name = \"Sagar\"\n",
    "Name = \"Kumar\"\n",
    "print(name)\n",
    "print(Name)"
   ]
  },
  {
   "cell_type": "markdown",
   "id": "c1c2a46e",
   "metadata": {},
   "source": [
    "## Indentation"
   ]
  },
  {
   "cell_type": "markdown",
   "id": "d9809f9d",
   "metadata": {},
   "source": [
    "Use For define Blocks of the Code.\n",
    "Consistent use of spaces(commonly 4) or tab is required.\n",
    "Many Other programming language are use braces{} to delimit the blocks of codes.\n",
    "Python used Indentation to determine the groupings of statements."
   ]
  },
  {
   "cell_type": "code",
   "execution_count": 4,
   "id": "918af5b0",
   "metadata": {},
   "outputs": [
    {
     "name": "stdout",
     "output_type": "stream",
     "text": [
      "11\n"
     ]
    }
   ],
   "source": [
    "# Multiple statement in a single line\n",
    "\n",
    "a=5;b=6;c=a+b\n",
    "print(c)"
   ]
  },
  {
   "cell_type": "code",
   "execution_count": 7,
   "id": "5fbc557c",
   "metadata": {},
   "outputs": [
    {
     "name": "stdout",
     "output_type": "stream",
     "text": [
      "<class 'int'>\n",
      "<class 'str'>\n"
     ]
    }
   ],
   "source": [
    "# type Inference\n",
    "\n",
    "variable = 32\n",
    "print(type(variable))\n",
    "\n",
    "variable = \"sagar\"\n",
    "print(type(variable))"
   ]
  },
  {
   "cell_type": "code",
   "execution_count": 8,
   "id": "a161d2f0",
   "metadata": {},
   "outputs": [
    {
     "name": "stdout",
     "output_type": "stream",
     "text": [
      "<class 'str'>\n",
      "<class 'int'>\n",
      "<class 'float'>\n",
      "<class 'int'>\n",
      "<class 'bool'>\n"
     ]
    }
   ],
   "source": [
    "#Decalring Variables and assigning \n",
    "\n",
    "name= \"sagar\"\n",
    "age = 21\n",
    "height = 5.10\n",
    "weight = 78\n",
    "is_student = True\n",
    "\n",
    "# Printing Variable Types\n",
    "\n",
    "print(type(name))\n",
    "print(type(age))\n",
    "print(type(height))\n",
    "print(type(weight))\n",
    "print(type(is_student))"
   ]
  },
  {
   "cell_type": "code",
   "execution_count": null,
   "id": "6f24df5e",
   "metadata": {},
   "outputs": [],
   "source": [
    "\n",
    "# Naming Convention\n",
    "# Variables names should be descriptive\n",
    "# They must be start with a letter or '_' and contains lette,numbers and Underscore\n",
    "# Variable name is case sensitive\n",
    "\n",
    "\n",
    "#InValid Variable Names\n",
    "2age = 30\n",
    "first-name = 'sagar'\n",
    "@name = \"sagar\""
   ]
  },
  {
   "cell_type": "code",
   "execution_count": 12,
   "id": "d2a95390",
   "metadata": {},
   "outputs": [],
   "source": [
    "#Valid Variables\n",
    "name = \"sagar\"\n",
    "age = 21\n",
    "weight = 34.2"
   ]
  },
  {
   "cell_type": "markdown",
   "id": "7536055e",
   "metadata": {},
   "source": [
    "## Type Conversing"
   ]
  },
  {
   "cell_type": "code",
   "execution_count": 16,
   "id": "7c40dfd5",
   "metadata": {},
   "outputs": [
    {
     "name": "stdout",
     "output_type": "stream",
     "text": [
      "<class 'int'>\n",
      "21\n",
      "<class 'str'>\n"
     ]
    }
   ],
   "source": [
    "age=21\n",
    "print(type(age))\n",
    "\n",
    "age_str = str(age)\n",
    "print(age_str)\n",
    "print(type(age_str))"
   ]
  },
  {
   "cell_type": "markdown",
   "id": "1a57e775",
   "metadata": {},
   "source": [
    "## Dynamic Typing\n",
    "Python allows the type of variable to change as program execution"
   ]
  },
  {
   "cell_type": "code",
   "execution_count": 18,
   "id": "b97c51dd",
   "metadata": {},
   "outputs": [
    {
     "name": "stdout",
     "output_type": "stream",
     "text": [
      "<class 'int'>\n",
      "Variable <class 'str'>\n",
      "3.14 <class 'float'>\n"
     ]
    }
   ],
   "source": [
    "\n",
    "var = 10\n",
    "print(type(var))\n",
    "\n",
    "\n",
    "var = \"Variable\"\n",
    "print(var,type(var))\n",
    "\n",
    "var = 3.14\n",
    "print(var,type(var))"
   ]
  },
  {
   "cell_type": "code",
   "execution_count": 20,
   "id": "63e296a4",
   "metadata": {},
   "outputs": [
    {
     "name": "stdout",
     "output_type": "stream",
     "text": [
      "12\n",
      "13 <class 'int'>\n"
     ]
    }
   ],
   "source": [
    "# By Giving Input manually\n",
    "age=input(\"What is the age:\")\n",
    "print(age)\n",
    "\n",
    "age=int(input(\"What is the age\"))\n",
    "print(age,type(age))"
   ]
  },
  {
   "cell_type": "markdown",
   "id": "e6c78271",
   "metadata": {},
   "source": [
    "## SIMPLE CALCULATOR"
   ]
  },
  {
   "cell_type": "code",
   "execution_count": 23,
   "id": "cde1ce08",
   "metadata": {},
   "outputs": [
    {
     "name": "stdout",
     "output_type": "stream",
     "text": [
      "Sum is:  23.0\n",
      "Difference is:  -1.0\n",
      "Product is:  132.0\n",
      "Quotient is:  0.9166666666666666\n"
     ]
    }
   ],
   "source": [
    "num1 = float(input(\"Enter the fitst Number: \"))\n",
    "num2 = float(input(\"Enter the second Number: \"))\n",
    "sum = num1 + num2\n",
    "difference = num1 - num2\n",
    "product = num1 * num2\n",
    "quotient = num1 / num2\n",
    "\n",
    "print(\"Sum is: \",sum)\n",
    "print(\"Difference is: \",difference)\n",
    "print(\"Product is: \",product)\n",
    "print(\"Quotient is: \",quotient)\n"
   ]
  },
  {
   "cell_type": "markdown",
   "id": "4b47244a",
   "metadata": {},
   "source": [
    "## DATA Types"
   ]
  },
  {
   "cell_type": "code",
   "execution_count": 24,
   "id": "a36df8ac",
   "metadata": {},
   "outputs": [
    {
     "name": "stdout",
     "output_type": "stream",
     "text": [
      "<class 'int'>\n",
      "<class 'float'>\n",
      "<class 'str'>\n",
      "<class 'bool'>\n"
     ]
    }
   ],
   "source": [
    "# Integer DataTypes\n",
    "age=21\n",
    "print(type(age))\n",
    "\n",
    "# Floating point DataType\n",
    "height = 5.10\n",
    "print(type(height))\n",
    "\n",
    "# String DataType\n",
    "name = \"sagar\"\n",
    "print(type(name))\n",
    "\n",
    "#Boolean DataType\n",
    "is_student=True\n",
    "print(type(is_student))"
   ]
  },
  {
   "cell_type": "code",
   "execution_count": 25,
   "id": "b5b477b8",
   "metadata": {},
   "outputs": [
    {
     "data": {
      "text/plain": [
       "False"
      ]
     },
     "execution_count": 25,
     "metadata": {},
     "output_type": "execute_result"
    }
   ],
   "source": [
    "bool()"
   ]
  },
  {
   "cell_type": "code",
   "execution_count": 29,
   "id": "683ab285",
   "metadata": {},
   "outputs": [
    {
     "name": "stdout",
     "output_type": "stream",
     "text": [
      "True\n",
      "<class 'bool'>\n"
     ]
    }
   ],
   "source": [
    "a=10\n",
    "b=10\n",
    "print(a==b)\n",
    "print(type(a==b))"
   ]
  },
  {
   "cell_type": "code",
   "execution_count": 34,
   "id": "83906532",
   "metadata": {},
   "outputs": [
    {
     "name": "stdout",
     "output_type": "stream",
     "text": [
      "Hello5\n"
     ]
    }
   ],
   "source": [
    "# Type Casting\n",
    "#   <--- result = \"Hello\" + 5.  --->\n",
    "\n",
    "# Traceback (most recent call last)\n",
    "# Cell In[30], line 2\n",
    "#       1 # Type Casting\n",
    "# ----> 2 result = \"Hello\" + 5 \n",
    "\n",
    "# TypeError: can only concatenate str (not \"int\") to str\n",
    "\n",
    "result = \"Hello\" + str(5)\n",
    "print(result)"
   ]
  },
  {
   "cell_type": "code",
   "execution_count": 35,
   "id": "ce4c4383",
   "metadata": {},
   "outputs": [
    {
     "name": "stdout",
     "output_type": "stream",
     "text": [
      "HELLO\n"
     ]
    }
   ],
   "source": [
    "print(\"HELLO\")"
   ]
  },
  {
   "cell_type": "code",
   "execution_count": null,
   "id": "51395eb9",
   "metadata": {},
   "outputs": [],
   "source": []
  }
 ],
 "metadata": {
  "kernelspec": {
   "display_name": "Python 3",
   "language": "python",
   "name": "python3"
  },
  "language_info": {
   "codemirror_mode": {
    "name": "ipython",
    "version": 3
   },
   "file_extension": ".py",
   "mimetype": "text/x-python",
   "name": "python",
   "nbconvert_exporter": "python",
   "pygments_lexer": "ipython3",
   "version": "3.12.11"
  }
 },
 "nbformat": 4,
 "nbformat_minor": 5
}
